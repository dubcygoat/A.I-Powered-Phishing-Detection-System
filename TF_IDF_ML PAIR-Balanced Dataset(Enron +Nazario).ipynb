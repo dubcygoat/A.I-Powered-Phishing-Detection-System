{
 "cells": [
  {
   "cell_type": "code",
   "execution_count": 1,
   "id": "e5aba703",
   "metadata": {},
   "outputs": [],
   "source": [
    "import os\n",
    "import shutil\n",
    "import gensim\n",
    "from official.nlp import optimization  # to create AdamW optimizer\n",
    "from sklearn.model_selection import train_test_split\n",
    "from sklearn.svm import SVC\n",
    "from sklearn.tree import DecisionTreeClassifier\n",
    "from sklearn.linear_model import LogisticRegression\n",
    "from sklearn.ensemble import RandomForestClassifier, GradientBoostingClassifier\n",
    "from sklearn.naive_bayes import CategoricalNB,GaussianNB\n",
    "from sklearn.neural_network import MLPClassifier\n",
    "from sklearn.pipeline import Pipeline\n",
    "from time import time\n",
    "from sklearn.metrics import accuracy_score, precision_score, recall_score, f1_score\n",
    "from sklearn.preprocessing import LabelEncoder\n",
    "from sklearn.feature_extraction.text import TfidfVectorizer\n",
    "from sklearn.metrics import confusion_matrix, classification_report\n",
    "import matplotlib.pyplot as plt\n",
    "import seaborn as sn\n",
    "import pandas as pd\n",
    "import numpy as np\n",
    "\n"
   ]
  },
  {
   "cell_type": "code",
   "execution_count": 2,
   "id": "773593c4",
   "metadata": {},
   "outputs": [],
   "source": [
    "# Load the dataset\n",
    "balanced_bl = pd.read_csv(\"balanced_processed_nostem.csv\")"
   ]
  },
  {
   "cell_type": "code",
   "execution_count": 3,
   "id": "200ff508",
   "metadata": {},
   "outputs": [
    {
     "data": {
      "text/plain": [
       "3836"
      ]
     },
     "execution_count": 3,
     "metadata": {},
     "output_type": "execute_result"
    }
   ],
   "source": [
    "len(balanced_bl)"
   ]
  },
  {
   "cell_type": "code",
   "execution_count": 4,
   "id": "365f1b1c",
   "metadata": {},
   "outputs": [
    {
     "data": {
      "text/plain": [
       "False    1918\n",
       "True     1918\n",
       "Name: class, dtype: int64"
      ]
     },
     "execution_count": 4,
     "metadata": {},
     "output_type": "execute_result"
    }
   ],
   "source": [
    "balanced_bl['class'].value_counts()"
   ]
  },
  {
   "cell_type": "code",
   "execution_count": 5,
   "id": "55d72959",
   "metadata": {},
   "outputs": [
    {
     "data": {
      "text/plain": [
       "'N/B : The \"stratify\" parameter is often used in machine learning algorithms to ensure that the training\\nand testing datasets have similar proportions of each class, which can be important for improving the accuracy\\nof the model. '"
      ]
     },
     "execution_count": 5,
     "metadata": {},
     "output_type": "execute_result"
    }
   ],
   "source": [
    "# Split the data into training and testing sets\n",
    "X_train, X_test, y_train, y_test = train_test_split(balanced_bl['tokens'], balanced_bl['class'],random_state=0,test_size =0.3, stratify=balanced_bl['class'])\n",
    "\n",
    "\"\"\"N/B : The \"stratify\" parameter is often used in machine learning algorithms to ensure that the training\n",
    "and testing datasets have similar proportions of each class, which can be important for improving the accuracy\n",
    "of the model. \"\"\""
   ]
  },
  {
   "cell_type": "markdown",
   "id": "63d7bd03",
   "metadata": {},
   "source": [
    "# BUILD THE NLP/ML Pipeline\n",
    "\n",
    "The code creates a pipeline which is defined using the Pipeline function from the sklearn.pipeline module,The pipeline consists of two main steps:\n",
    "\n",
    "The first step is a data pre-processing step, where the TfidfVectorizer function is used to transform the raw text data into numerical features. This function converts each text document into a matrix of numerical values, which can be used as input to machine learning algorithms.\n",
    "\n",
    "The second step is the machine learning algorithm, where the ML is used to train a model on the transformed data."
   ]
  },
  {
   "cell_type": "code",
   "execution_count": 6,
   "id": "e1f78866",
   "metadata": {},
   "outputs": [],
   "source": [
    "#SVM PIPELINE\n",
    "\n",
    "clf_svm = Pipeline([\n",
    "     ('vectorizer_tfidf',TfidfVectorizer()),        \n",
    "     ('svm', SVC(C=3000,gamma='auto'))         \n",
    "])"
   ]
  },
  {
   "cell_type": "code",
   "execution_count": 7,
   "id": "0f95ceb7",
   "metadata": {},
   "outputs": [],
   "source": [
    "#Decision Tree Pipeline\n",
    "clf_dt = Pipeline([\n",
    "     ('vectorizer_tfidf',TfidfVectorizer()),        \n",
    "     ('Decision Tree', DecisionTreeClassifier())         \n",
    "])"
   ]
  },
  {
   "cell_type": "code",
   "execution_count": 8,
   "id": "44174f21",
   "metadata": {},
   "outputs": [],
   "source": [
    "#Logistic Regression Pipeline\n",
    "clf_lr = Pipeline([\n",
    "     ('vectorizer_tfidf',TfidfVectorizer()),        \n",
    "     ('LR', LogisticRegression())         \n",
    "      ])\n"
   ]
  },
  {
   "cell_type": "code",
   "execution_count": 9,
   "id": "06b72184",
   "metadata": {},
   "outputs": [],
   "source": [
    "#Random Forest Pipeline\n",
    "\n",
    "clf_rf = Pipeline([\n",
    "     ('vectorizer_tfidf',TfidfVectorizer()),        \n",
    "     ('Random Forest', RandomForestClassifier())         \n",
    "])"
   ]
  },
  {
   "cell_type": "code",
   "execution_count": 10,
   "id": "e8e336c0",
   "metadata": {},
   "outputs": [
    {
     "data": {
      "text/plain": [
       "'By default the number of hidden layers in the MLP is 1 with 100 nodes.'"
      ]
     },
     "execution_count": 10,
     "metadata": {},
     "output_type": "execute_result"
    }
   ],
   "source": [
    "#Multilayer perceptron Pipeline\n",
    "clf_mlp = Pipeline([\n",
    "     ('vectorizer_tfidf',TfidfVectorizer()),        \n",
    "     ('MultilayerPerceptronClassifier', MLPClassifier())\n",
    "])\n",
    "\"\"\"By default the number of hidden layers in the MLP is 1 with 100 nodes.\"\"\""
   ]
  },
  {
   "cell_type": "code",
   "execution_count": 11,
   "id": "d71258c5",
   "metadata": {},
   "outputs": [],
   "source": [
    "#Gradient Boosting Tree Pipeline\n",
    "clf_gbt = Pipeline([\n",
    "     ('vectorizer_tfidf',TfidfVectorizer()),        \n",
    "     ('Gradient Boosting', GradientBoostingClassifier())         \n",
    "])"
   ]
  },
  {
   "cell_type": "markdown",
   "id": "d4192c03",
   "metadata": {},
   "source": [
    "# TRAIN THE MODELS"
   ]
  },
  {
   "cell_type": "code",
   "execution_count": 12,
   "id": "144fead1",
   "metadata": {},
   "outputs": [],
   "source": [
    "#Training the SVM model\n",
    "start_time = time()\n",
    "\n",
    "clf_svm.fit(X_train, y_train)\n",
    "\n",
    "end_time = time()"
   ]
  },
  {
   "cell_type": "code",
   "execution_count": 13,
   "id": "8854dc83",
   "metadata": {},
   "outputs": [],
   "source": [
    "#Training the DT model\n",
    "start_time_1 = time()\n",
    "\n",
    "clf_dt.fit(X_train, y_train)\n",
    "\n",
    "end_time_1 = time()"
   ]
  },
  {
   "cell_type": "code",
   "execution_count": 14,
   "id": "7acec3d8",
   "metadata": {},
   "outputs": [],
   "source": [
    "#Training the LR model\n",
    "start_time_2 = time()\n",
    "clf_lr.fit(X_train, y_train)\n",
    "\n",
    "end_time_2 = time()"
   ]
  },
  {
   "cell_type": "code",
   "execution_count": 15,
   "id": "d158e082",
   "metadata": {},
   "outputs": [],
   "source": [
    "#Training the RF model\n",
    "start_time_3 = time()\n",
    "clf_rf.fit(X_train, y_train)\n",
    "\n",
    "end_time_3 = time()"
   ]
  },
  {
   "cell_type": "code",
   "execution_count": 16,
   "id": "70bce96b",
   "metadata": {},
   "outputs": [],
   "source": [
    "#Training the MLP model\n",
    "start_time_4 = time()\n",
    "clf_mlp.fit(X_train, y_train)\n",
    "\n",
    "end_time_4 = time()"
   ]
  },
  {
   "cell_type": "code",
   "execution_count": 17,
   "id": "7ec4478c",
   "metadata": {},
   "outputs": [],
   "source": [
    "#Training the GBT model\n",
    "start_time_5 = time()\n",
    "clf_gbt.fit(X_train,y_train)\n",
    "\n",
    "end_time_5 = time()"
   ]
  },
  {
   "cell_type": "markdown",
   "id": "32fbd0ff",
   "metadata": {},
   "source": [
    "# Training Times"
   ]
  },
  {
   "cell_type": "code",
   "execution_count": 18,
   "id": "5956212b",
   "metadata": {},
   "outputs": [
    {
     "name": "stdout",
     "output_type": "stream",
     "text": [
      "Training time for SVM: 4.96 seconds \n",
      "Training time for DT: 2.02 seconds \n",
      " Training time for LR: 1.92 seconds \n",
      " Training time for RF: 5.93 seconds \n",
      " Training time for MLP: 230.58 seconds \n",
      " Training time for GBT: 15.46 seconds\n"
     ]
    }
   ],
   "source": [
    "# Print the training time\n",
    "print(\"Training time for SVM: %.2f seconds\" % (end_time - start_time),'\\n'\n",
    "     \"Training time for DT: %.2f seconds\" % (end_time_1 - start_time_1),'\\n',\n",
    "     \"Training time for LR: %.2f seconds\" % (end_time_2 - start_time_2),'\\n',\n",
    "     \"Training time for RF: %.2f seconds\" % (end_time_3 - start_time_3),'\\n',\n",
    "     \"Training time for MLP: %.2f seconds\" % (end_time_4 - start_time_4),'\\n',\n",
    "     \"Training time for GBT: %.2f seconds\" % (end_time_5 - start_time_5))"
   ]
  },
  {
   "cell_type": "code",
   "execution_count": 19,
   "id": "145e44bb",
   "metadata": {},
   "outputs": [
    {
     "data": {
      "image/png": "[encoded data removed]",
      "text/plain": [
       "<Figure size 640x480 with 1 Axes>"
      ]
     },
     "metadata": {},
     "output_type": "display_data"
    }
   ],
   "source": [
    "#Building a bar chart for the Training times\n",
    "\n",
    "svm_time =end_time -start_time\n",
    "dt_time = end_time_1 -start_time_1\n",
    "lr_time =end_time_2 - start_time_2\n",
    "rf_time =end_time_3 - start_time_3\n",
    "mlp_time=end_time_4 - start_time_4\n",
    "gbt_time =end_time_5 - start_time_5\n",
    "\n",
    "\n",
    "time_model = {'SVM': [svm_time], 'DT': [dt_time], 'LR':[lr_time],'RF':[rf_time],'MLP':[mlp_time],'GBT':[gbt_time]}\n",
    "colors= ['r', 'g', 'b', 'c', 'm', 'y']\n",
    "\n",
    "# Plot histograms of evaluation metrics for SVM \n",
    "plt.bar(time_model.keys(),[i[0] for i in time_model.values()], color=colors, width=1)\n",
    "plt.xlabel('Model name')\n",
    "plt.ylabel('Training Time')\n",
    "plt.title('Training Time for Six Classifiers')\n",
    "plt.show()\n"
   ]
  },
  {
   "cell_type": "code",
   "execution_count": 20,
   "id": "d5ca4884",
   "metadata": {},
   "outputs": [
    {
     "data": {
      "text/html": [
       "<style type=\"text/css\">\n",
       "#T_98b7a th {\n",
       "  background-color: #f2f2f2;\n",
       "}\n",
       "#T_98b7a_row4_col0 {\n",
       "  background-color: green;\n",
       "}\n",
       "</style>\n",
       "<table id=\"T_98b7a\">\n",
       "  <caption>Training Time for TF-IDF with Six Classifiers for Enron + Nazario Balanced dataset</caption>\n",
       "  <thead>\n",
       "    <tr>\n",
       "      <th class=\"blank level0\" >&nbsp;</th>\n",
       "      <th id=\"T_98b7a_level0_col0\" class=\"col_heading level0 col0\" >Training Time</th>\n",
       "    </tr>\n",
       "  </thead>\n",
       "  <tbody>\n",
       "    <tr>\n",
       "      <th id=\"T_98b7a_level0_row0\" class=\"row_heading level0 row0\" >SVM</th>\n",
       "      <td id=\"T_98b7a_row0_col0\" class=\"data row0 col0\" >4.958461</td>\n",
       "    </tr>\n",
       "    <tr>\n",
       "      <th id=\"T_98b7a_level0_row1\" class=\"row_heading level0 row1\" >Decision Tree</th>\n",
       "      <td id=\"T_98b7a_row1_col0\" class=\"data row1 col0\" >2.015208</td>\n",
       "    </tr>\n",
       "    <tr>\n",
       "      <th id=\"T_98b7a_level0_row2\" class=\"row_heading level0 row2\" >Logistic Regression</th>\n",
       "      <td id=\"T_98b7a_row2_col0\" class=\"data row2 col0\" >1.918174</td>\n",
       "    </tr>\n",
       "    <tr>\n",
       "      <th id=\"T_98b7a_level0_row3\" class=\"row_heading level0 row3\" >RandomForest</th>\n",
       "      <td id=\"T_98b7a_row3_col0\" class=\"data row3 col0\" >5.928574</td>\n",
       "    </tr>\n",
       "    <tr>\n",
       "      <th id=\"T_98b7a_level0_row4\" class=\"row_heading level0 row4\" >Multilayer Perceptron</th>\n",
       "      <td id=\"T_98b7a_row4_col0\" class=\"data row4 col0\" >230.576828</td>\n",
       "    </tr>\n",
       "    <tr>\n",
       "      <th id=\"T_98b7a_level0_row5\" class=\"row_heading level0 row5\" >Gradient Boosting Tree</th>\n",
       "      <td id=\"T_98b7a_row5_col0\" class=\"data row5 col0\" >15.457357</td>\n",
       "    </tr>\n",
       "  </tbody>\n",
       "</table>\n"
      ],
      "text/plain": [
       "<pandas.io.formats.style.Styler at 0x7ff04c574490>"
      ]
     },
     "metadata": {},
     "output_type": "display_data"
    }
   ],
   "source": [
    "\"\"\"Creating a table for the training times\"\"\"\n",
    "\n",
    "data = {'Training Time': [svm_time, dt_time,lr_time,rf_time,mlp_time,gbt_time]\n",
    "       }\n",
    "\n",
    "\n",
    "# Create a pandas dataframe from the dictionary\n",
    "df = pd.DataFrame(data, index=['SVM', 'Decision Tree','Logistic Regression','RandomForest', 'Multilayer Perceptron','Gradient Boosting Tree'])\n",
    "\n",
    "# Define a function to highlight the cell with the highest value in each row\n",
    "def highlight_max(row):\n",
    "    max_val = row.max()\n",
    "    return ['background-color: green' if val == max_val else '' for val in row]\n",
    "\n",
    "# Apply the function to each row of the dataframe\n",
    "df_styled = df.style.apply(highlight_max, axis=0)\n",
    "\n",
    "# Apply a background color to the header row\n",
    "df_styled.set_table_styles([\n",
    "    {'selector': 'th',\n",
    "     'props': [('background-color', '#f2f2f2')]}\n",
    "])\n",
    "\n",
    "# Apply a different background color to the cells with the highest and lowest values\n",
    "#df_styled.background_gradient(subset=pd.IndexSlice[:, ['Accuracy', 'Precision', 'Recall',F1-Score]], \n",
    "#                              cmap='RdYlGn', vmin=0, vmax=1)\n",
    "\n",
    "# Add a title to the table\n",
    "df_styled.set_caption('Training Time for TF-IDF with Six Classifiers for Enron + Nazario Balanced dataset')\n",
    "\n",
    "# Render the styled table\n",
    "display(df_styled)\n"
   ]
  },
  {
   "cell_type": "markdown",
   "id": "65a757bb",
   "metadata": {},
   "source": [
    "# MAKE PREDICTIONS"
   ]
  },
  {
   "cell_type": "code",
   "execution_count": 21,
   "id": "cfc339ab",
   "metadata": {},
   "outputs": [
    {
     "name": "stdout",
     "output_type": "stream",
     "text": [
      "[False False  True ...  True False False]\n"
     ]
    }
   ],
   "source": [
    "#SVM Prediction\n",
    "y_pred_svm = clf_svm.predict(X_test)\n",
    "print(y_pred_svm)"
   ]
  },
  {
   "cell_type": "code",
   "execution_count": 22,
   "id": "b0c1fcea",
   "metadata": {},
   "outputs": [
    {
     "name": "stdout",
     "output_type": "stream",
     "text": [
      "[False False  True ...  True False False]\n"
     ]
    }
   ],
   "source": [
    "#Decision Tree Prediction\n",
    "y_pred_dt = clf_dt.predict(X_test)\n",
    "print(y_pred_dt)"
   ]
  },
  {
   "cell_type": "code",
   "execution_count": 23,
   "id": "938caf6c",
   "metadata": {},
   "outputs": [
    {
     "name": "stdout",
     "output_type": "stream",
     "text": [
      "[False False  True ...  True False False]\n"
     ]
    }
   ],
   "source": [
    "#Logistic Regression Prediction\n",
    "\n",
    "y_pred_lr = clf_lr.predict(X_test)\n",
    "print(y_pred_lr)"
   ]
  },
  {
   "cell_type": "code",
   "execution_count": 24,
   "id": "360e385d",
   "metadata": {},
   "outputs": [
    {
     "name": "stdout",
     "output_type": "stream",
     "text": [
      "[False False  True ...  True False False]\n"
     ]
    }
   ],
   "source": [
    "#Random Forest Prediction\n",
    "\n",
    "y_pred_rf = clf_rf.predict(X_test)\n",
    "print(y_pred_rf)"
   ]
  },
  {
   "cell_type": "code",
   "execution_count": 25,
   "id": "33ba1b75",
   "metadata": {},
   "outputs": [
    {
     "name": "stdout",
     "output_type": "stream",
     "text": [
      "[False False  True ...  True False False]\n"
     ]
    }
   ],
   "source": [
    "#MLP Prediction\n",
    "\n",
    "y_pred_mlp = clf_mlp.predict(X_test)\n",
    "print(y_pred_mlp)"
   ]
  },
  {
   "cell_type": "code",
   "execution_count": 26,
   "id": "d4c2bc40",
   "metadata": {},
   "outputs": [
    {
     "name": "stdout",
     "output_type": "stream",
     "text": [
      "[False False  True ...  True False False]\n"
     ]
    }
   ],
   "source": [
    "#Gradient Boosting Tree Prediction\n",
    "\n",
    "y_pred_gbt = clf_gbt.predict(X_test)\n",
    "print(y_pred_gbt)"
   ]
  },
  {
   "cell_type": "markdown",
   "id": "d306b128",
   "metadata": {},
   "source": [
    "# COMPUTE THE EVALUATION METRICS\n",
    "Compute accuracy,recall score, f1score and precision score\n"
   ]
  },
  {
   "cell_type": "code",
   "execution_count": 27,
   "id": "e228eaac",
   "metadata": {},
   "outputs": [],
   "source": [
    "# Compute accuracy and confusion matrix,recall score, f1score and precision score\n",
    "accuracy_s = accuracy_score(y_test, y_pred_svm)\n",
    "confusion_mat_s = confusion_matrix(y_test, y_pred_svm)\n",
    "precision_s= precision_score(y_test, y_pred_svm, average='macro')\n",
    "recall_s= recall_score(y_test, y_pred_svm, average='macro')\n",
    "f1_score_s=f1_score(y_test, y_pred_svm, average='macro')\n",
    "fpr_s = confusion_mat_s[0][1]/sum(confusion_mat_s[0])\n",
    "fnr_s = confusion_mat_s[1,0] / (confusion_mat_s[1,0] + confusion_mat_s[1,1])"
   ]
  },
  {
   "cell_type": "code",
   "execution_count": 28,
   "id": "e4182cee",
   "metadata": {},
   "outputs": [],
   "source": [
    "# Compute accuracy and confusion matrix,recall score, f1score and precision score\n",
    "accuracy_d = accuracy_score(y_test, y_pred_dt)\n",
    "confusion_mat_d = confusion_matrix(y_test, y_pred_dt)\n",
    "precision_d= precision_score(y_test, y_pred_dt, average='macro')\n",
    "recall_d= recall_score(y_test, y_pred_dt, average='macro')\n",
    "f1_score_d=f1_score(y_test, y_pred_dt, average='macro')\n",
    "fpr_d = confusion_mat_d[0][1]/sum(confusion_mat_d[0])\n",
    "fnr_d = confusion_mat_d[1,0] / (confusion_mat_d[1,0] + confusion_mat_d[1,1])"
   ]
  },
  {
   "cell_type": "code",
   "execution_count": 29,
   "id": "37f974f1",
   "metadata": {},
   "outputs": [],
   "source": [
    "# Compute accuracy and confusion matrix,recall score, f1score and precision score\n",
    "accuracy_lr = accuracy_score(y_test, y_pred_lr)\n",
    "confusion_mat_lr = confusion_matrix(y_test, y_pred_lr)\n",
    "precision_lr= precision_score(y_test, y_pred_lr, average='macro')\n",
    "recall_lr= recall_score(y_test, y_pred_lr, average='macro')\n",
    "f1_score_lr=f1_score(y_test, y_pred_lr, average='macro')\n",
    "fpr_lr = confusion_mat_lr[0][1]/sum(confusion_mat_lr[0])\n",
    "fnr_lr = confusion_mat_lr[1,0] / (confusion_mat_lr[1,0] + confusion_mat_lr[1,1])"
   ]
  },
  {
   "cell_type": "code",
   "execution_count": 30,
   "id": "ba86bfb2",
   "metadata": {},
   "outputs": [],
   "source": [
    "# Compute accuracy and confusion matrix,recall score, f1score and precision score\n",
    "accuracy_rf = accuracy_score(y_test, y_pred_rf)\n",
    "confusion_mat_rf = confusion_matrix(y_test, y_pred_rf)\n",
    "precision_rf= precision_score(y_test, y_pred_rf, average='macro')\n",
    "recall_rf= recall_score(y_test, y_pred_rf, average='macro')\n",
    "f1_score_rf=f1_score(y_test, y_pred_rf, average='macro')\n",
    "fpr_rf = confusion_mat_rf[0][1]/sum(confusion_mat_rf[0])\n",
    "fnr_rf = confusion_mat_rf[1,0] / (confusion_mat_rf[1,0] + confusion_mat_rf[1,1])"
   ]
  },
  {
   "cell_type": "code",
   "execution_count": 31,
   "id": "00d58c6f",
   "metadata": {},
   "outputs": [],
   "source": [
    "# Compute accuracy and confusion matrix,recall score, f1score and precision score\n",
    "accuracy_mlp = accuracy_score(y_test, y_pred_mlp)\n",
    "confusion_mat_mlp = confusion_matrix(y_test, y_pred_mlp)\n",
    "precision_mlp= precision_score(y_test, y_pred_mlp, average='macro')\n",
    "recall_mlp= recall_score(y_test, y_pred_mlp, average='macro')\n",
    "f1_score_mlp=f1_score(y_test, y_pred_mlp, average='macro')\n",
    "fpr_mlp = confusion_mat_mlp[0][1]/sum(confusion_mat_mlp[0])\n",
    "fnr_mlp = confusion_mat_mlp[1,0] / (confusion_mat_mlp[1,0] + confusion_mat_mlp[1,1])"
   ]
  },
  {
   "cell_type": "code",
   "execution_count": 32,
   "id": "bfd364b0",
   "metadata": {},
   "outputs": [],
   "source": [
    "# Compute accuracy and confusion matrix,recall score, f1score and precision score\n",
    "accuracy_gbt = accuracy_score(y_test, y_pred_gbt)\n",
    "confusion_mat_gbt = confusion_matrix(y_test, y_pred_gbt)\n",
    "precision_gbt= precision_score(y_test, y_pred_gbt, average='macro')\n",
    "recall_gbt= recall_score(y_test, y_pred_gbt, average='macro')\n",
    "f1_score_gbt=f1_score(y_test, y_pred_gbt, average='macro')\n",
    "fpr_gbt = confusion_mat_gbt[0][1]/sum(confusion_mat_gbt[0])\n",
    "fnr_gbt = confusion_mat_gbt[1,0] / (confusion_mat_gbt[1,0] + confusion_mat_gbt[1,1])"
   ]
  },
  {
   "cell_type": "markdown",
   "id": "a1989425",
   "metadata": {},
   "source": [
    "# DISPLAY THE RESULTS\n",
    "Display the results of the evaluation metrics on a table"
   ]
  },
  {
   "cell_type": "code",
   "execution_count": 33,
   "id": "966301cf",
   "metadata": {
    "scrolled": true
   },
   "outputs": [
    {
     "name": "stdout",
     "output_type": "stream",
     "text": [
      "Accuracy: 0.9704604691572546 0.950477845351868 0.9774109470026064 0.9826238053866203 0.9826238053866203 0.9661164205039097\n",
      "Precision: 0.9710426869822844 0.950491865647306 0.9776268411449838 0.9827765864266513 0.9826499184733377 0.966751628176986\n",
      "Recall: 0.9704453502415459 0.9504755434782608 0.9774018719806763 0.9826162439613526 0.9826207729468599 0.9661005434782608\n",
      "f1-Score 0.9504772472514408 0.9774080650324013 0.9826222181960926 0.9826234774784568 0.966104037024368\n",
      "False Positive Rate:  0.012152777777777778 0.046875 0.012152777777777778 0.008680555555555556 0.013888888888888888 0.015625\n",
      "False Negative Rate:  0.04695652173913043 0.05217391304347826 0.03304347826086956 0.02608695652173913 0.020869565217391306 0.05217391304347826\n"
     ]
    }
   ],
   "source": [
    "# Print the accuracy,precision,recall, and f1score\n",
    "print(\"Accuracy:\", accuracy_s,accuracy_d,accuracy_lr,accuracy_rf,accuracy_mlp,accuracy_gbt)\n",
    "print(\"Precision:\",precision_s,precision_d,precision_lr,precision_rf,precision_mlp,precision_gbt)\n",
    "print(\"Recall:\", recall_s,recall_d,recall_lr,recall_rf,recall_mlp,recall_gbt)\n",
    "print(\"f1-Score\", f1_score_d,f1_score_lr,f1_score_rf,f1_score_mlp,f1_score_gbt)\n",
    "print(\"False Positive Rate: \", fpr_s,fpr_d,fpr_lr,fpr_rf,fpr_mlp,fpr_gbt)\n",
    "print(\"False Negative Rate: \", fnr_s,fnr_d,fnr_lr,fnr_rf,fnr_mlp,fnr_gbt)"
   ]
  },
  {
   "cell_type": "code",
   "execution_count": 34,
   "id": "40cb61f3",
   "metadata": {
    "scrolled": true
   },
   "outputs": [
    {
     "data": {
      "text/html": [
       "<style type=\"text/css\">\n",
       "#T_60e5c th {\n",
       "  background-color: #f2f2f2;\n",
       "}\n",
       "#T_60e5c_row1_col4, #T_60e5c_row1_col5, #T_60e5c_row3_col0, #T_60e5c_row3_col1, #T_60e5c_row4_col0, #T_60e5c_row4_col2, #T_60e5c_row4_col3, #T_60e5c_row5_col5 {\n",
       "  background-color: green;\n",
       "}\n",
       "</style>\n",
       "<table id=\"T_60e5c\">\n",
       "  <caption>Results for TF-IDF with Six Classifiers for Enron + Nazario Balanced dataset</caption>\n",
       "  <thead>\n",
       "    <tr>\n",
       "      <th class=\"blank level0\" >&nbsp;</th>\n",
       "      <th id=\"T_60e5c_level0_col0\" class=\"col_heading level0 col0\" >Accuracy</th>\n",
       "      <th id=\"T_60e5c_level0_col1\" class=\"col_heading level0 col1\" >Precision</th>\n",
       "      <th id=\"T_60e5c_level0_col2\" class=\"col_heading level0 col2\" >Recall</th>\n",
       "      <th id=\"T_60e5c_level0_col3\" class=\"col_heading level0 col3\" >F1-Score</th>\n",
       "      <th id=\"T_60e5c_level0_col4\" class=\"col_heading level0 col4\" >False Positive Rate</th>\n",
       "      <th id=\"T_60e5c_level0_col5\" class=\"col_heading level0 col5\" >False Negative Rate</th>\n",
       "    </tr>\n",
       "  </thead>\n",
       "  <tbody>\n",
       "    <tr>\n",
       "      <th id=\"T_60e5c_level0_row0\" class=\"row_heading level0 row0\" >SVM</th>\n",
       "      <td id=\"T_60e5c_row0_col0\" class=\"data row0 col0\" >0.970460</td>\n",
       "      <td id=\"T_60e5c_row0_col1\" class=\"data row0 col1\" >0.971043</td>\n",
       "      <td id=\"T_60e5c_row0_col2\" class=\"data row0 col2\" >0.970445</td>\n",
       "      <td id=\"T_60e5c_row0_col3\" class=\"data row0 col3\" >0.970451</td>\n",
       "      <td id=\"T_60e5c_row0_col4\" class=\"data row0 col4\" >0.012153</td>\n",
       "      <td id=\"T_60e5c_row0_col5\" class=\"data row0 col5\" >0.046957</td>\n",
       "    </tr>\n",
       "    <tr>\n",
       "      <th id=\"T_60e5c_level0_row1\" class=\"row_heading level0 row1\" >Decision Tree</th>\n",
       "      <td id=\"T_60e5c_row1_col0\" class=\"data row1 col0\" >0.950478</td>\n",
       "      <td id=\"T_60e5c_row1_col1\" class=\"data row1 col1\" >0.950492</td>\n",
       "      <td id=\"T_60e5c_row1_col2\" class=\"data row1 col2\" >0.950476</td>\n",
       "      <td id=\"T_60e5c_row1_col3\" class=\"data row1 col3\" >0.950477</td>\n",
       "      <td id=\"T_60e5c_row1_col4\" class=\"data row1 col4\" >0.046875</td>\n",
       "      <td id=\"T_60e5c_row1_col5\" class=\"data row1 col5\" >0.052174</td>\n",
       "    </tr>\n",
       "    <tr>\n",
       "      <th id=\"T_60e5c_level0_row2\" class=\"row_heading level0 row2\" >Logistic Regression</th>\n",
       "      <td id=\"T_60e5c_row2_col0\" class=\"data row2 col0\" >0.977411</td>\n",
       "      <td id=\"T_60e5c_row2_col1\" class=\"data row2 col1\" >0.977627</td>\n",
       "      <td id=\"T_60e5c_row2_col2\" class=\"data row2 col2\" >0.977402</td>\n",
       "      <td id=\"T_60e5c_row2_col3\" class=\"data row2 col3\" >0.977408</td>\n",
       "      <td id=\"T_60e5c_row2_col4\" class=\"data row2 col4\" >0.012153</td>\n",
       "      <td id=\"T_60e5c_row2_col5\" class=\"data row2 col5\" >0.033043</td>\n",
       "    </tr>\n",
       "    <tr>\n",
       "      <th id=\"T_60e5c_level0_row3\" class=\"row_heading level0 row3\" >RandomForest</th>\n",
       "      <td id=\"T_60e5c_row3_col0\" class=\"data row3 col0\" >0.982624</td>\n",
       "      <td id=\"T_60e5c_row3_col1\" class=\"data row3 col1\" >0.982777</td>\n",
       "      <td id=\"T_60e5c_row3_col2\" class=\"data row3 col2\" >0.982616</td>\n",
       "      <td id=\"T_60e5c_row3_col3\" class=\"data row3 col3\" >0.982622</td>\n",
       "      <td id=\"T_60e5c_row3_col4\" class=\"data row3 col4\" >0.008681</td>\n",
       "      <td id=\"T_60e5c_row3_col5\" class=\"data row3 col5\" >0.026087</td>\n",
       "    </tr>\n",
       "    <tr>\n",
       "      <th id=\"T_60e5c_level0_row4\" class=\"row_heading level0 row4\" >Multilayer Perceptron</th>\n",
       "      <td id=\"T_60e5c_row4_col0\" class=\"data row4 col0\" >0.982624</td>\n",
       "      <td id=\"T_60e5c_row4_col1\" class=\"data row4 col1\" >0.982650</td>\n",
       "      <td id=\"T_60e5c_row4_col2\" class=\"data row4 col2\" >0.982621</td>\n",
       "      <td id=\"T_60e5c_row4_col3\" class=\"data row4 col3\" >0.982623</td>\n",
       "      <td id=\"T_60e5c_row4_col4\" class=\"data row4 col4\" >0.013889</td>\n",
       "      <td id=\"T_60e5c_row4_col5\" class=\"data row4 col5\" >0.020870</td>\n",
       "    </tr>\n",
       "    <tr>\n",
       "      <th id=\"T_60e5c_level0_row5\" class=\"row_heading level0 row5\" >Gradient Boosting Tree</th>\n",
       "      <td id=\"T_60e5c_row5_col0\" class=\"data row5 col0\" >0.966116</td>\n",
       "      <td id=\"T_60e5c_row5_col1\" class=\"data row5 col1\" >0.966752</td>\n",
       "      <td id=\"T_60e5c_row5_col2\" class=\"data row5 col2\" >0.966101</td>\n",
       "      <td id=\"T_60e5c_row5_col3\" class=\"data row5 col3\" >0.966104</td>\n",
       "      <td id=\"T_60e5c_row5_col4\" class=\"data row5 col4\" >0.015625</td>\n",
       "      <td id=\"T_60e5c_row5_col5\" class=\"data row5 col5\" >0.052174</td>\n",
       "    </tr>\n",
       "  </tbody>\n",
       "</table>\n"
      ],
      "text/plain": [
       "<pandas.io.formats.style.Styler at 0x7ff03dac8160>"
      ]
     },
     "metadata": {},
     "output_type": "display_data"
    }
   ],
   "source": [
    "# Create a dictionary of the metrics results\n",
    "data = {'Accuracy': [accuracy_s, accuracy_d,accuracy_lr,accuracy_rf,accuracy_mlp,accuracy_gbt], \n",
    "        'Precision': [precision_s, precision_d,precision_lr,precision_rf,precision_mlp,precision_gbt], \n",
    "        'Recall': [recall_s, recall_d,recall_lr,recall_rf, recall_mlp,recall_gbt],\n",
    "        'F1-Score':[f1_score_s,f1_score_d,f1_score_lr,f1_score_rf,f1_score_mlp,f1_score_gbt],\n",
    "       'False Positive Rate':[fpr_s,fpr_d,fpr_lr,fpr_rf,fpr_mlp,fpr_gbt],\n",
    "       'False Negative Rate':[fnr_s,fnr_d,fnr_lr,fnr_rf,fnr_mlp,fnr_gbt]}\n",
    "\n",
    "\n",
    "# Create a pandas dataframe from the dictionary\n",
    "df = pd.DataFrame(data, index=['SVM', 'Decision Tree','Logistic Regression','RandomForest', 'Multilayer Perceptron','Gradient Boosting Tree'])\n",
    "\n",
    "# Define a function to highlight the cell with the highest value in each row\n",
    "def highlight_max(row):\n",
    "    max_val = row.max()\n",
    "    return ['background-color: green' if val == max_val else '' for val in row]\n",
    "\n",
    "# Apply the function to each row of the dataframe\n",
    "df_styled = df.style.apply(highlight_max, axis=0)\n",
    "\n",
    "# Apply a background color to the header row\n",
    "df_styled.set_table_styles([\n",
    "    {'selector': 'th',\n",
    "     'props': [('background-color', '#f2f2f2')]}\n",
    "])\n",
    "\n",
    "# Apply a different background color to the cells with the highest and lowest values\n",
    "#df_styled.background_gradient(subset=pd.IndexSlice[:, ['Accuracy', 'Precision', 'Recall',F1-Score]], \n",
    "#                              cmap='RdYlGn', vmin=0, vmax=1)\n",
    "\n",
    "# Add a title to the table\n",
    "df_styled.set_caption('Results for TF-IDF with Six Classifiers for Enron + Nazario Balanced dataset')\n",
    "\n",
    "# Render the styled table\n",
    "display(df_styled)\n"
   ]
  },
  {
   "cell_type": "markdown",
   "id": "55ea93b7",
   "metadata": {},
   "source": [
    "# Build a histogram of the Evaluation results"
   ]
  },
  {
   "cell_type": "code",
   "execution_count": null,
   "id": "185b3184",
   "metadata": {},
   "outputs": [],
   "source": []
  },
  {
   "cell_type": "markdown",
   "id": "8a5e03c9",
   "metadata": {},
   "source": [
    "# DISPLAY THE CONFUSION MATRIX\n",
    "\n",
    "\"\"\"The confusion matrix has two rows and two columns. The top row represents the predicted negative(Not Phishing) \n",
    "(0) and positive(Phishing) (1) classes, and the left column represents the true negative(Not Phishing) (0) and positive(Phishing) (1) classes.\n",
    "\n",
    "The value in the top left corner represents the number of true negatives (TN), \n",
    "which are the cases that were predicted as negative (0) and were actually negative (0).\n",
    "\n",
    "The value in the top right corner represents the number of false positives (FP), \n",
    "which are the cases that were predicted as positive (1)  but were actually negative (0).\n",
    "\n",
    "The value in the bottom left corner represents the number of false negatives (FN), \n",
    "which are the cases that were predicted as negative (0) but were actually positive (1).\n",
    "\n",
    "The value in the bottom right corner  represents the number of true positives (TP), \n",
    "which are the cases that were predicted as positive (1) and were actually positive (1).\n",
    "\"\"\""
   ]
  },
  {
   "cell_type": "code",
   "execution_count": 36,
   "id": "0fba6d39",
   "metadata": {},
   "outputs": [
    {
     "name": "stdout",
     "output_type": "stream",
     "text": [
      "Confusion Matrix SVM:\n",
      " [[569   7]\n",
      " [ 27 548]] \n",
      " Confusion Matrix DT:\n",
      " [[549  27]\n",
      " [ 30 545]] \n",
      " Confusion Matrix LR:\n",
      " [[569   7]\n",
      " [ 19 556]] \n",
      " Confusion Matrix RF:\n",
      " [[571   5]\n",
      " [ 15 560]] \n",
      " Confusion Matrix MLP:\n",
      " [[568   8]\n",
      " [ 12 563]] \n",
      " Confusion Matrix GBT:\n",
      " [[567   9]\n",
      " [ 30 545]]\n"
     ]
    }
   ],
   "source": [
    "#Print Confusion Matrix\n",
    "print(\"Confusion Matrix SVM:\\n\", confusion_mat_s,'\\n',\n",
    "     \"Confusion Matrix DT:\\n\", confusion_mat_d,'\\n',\n",
    "     \"Confusion Matrix LR:\\n\", confusion_mat_lr,'\\n',\n",
    "     \"Confusion Matrix RF:\\n\", confusion_mat_rf,'\\n',\n",
    "     \"Confusion Matrix MLP:\\n\", confusion_mat_mlp,'\\n',\n",
    "     \"Confusion Matrix GBT:\\n\", confusion_mat_gbt)"
   ]
  },
  {
   "cell_type": "code",
   "execution_count": 37,
   "id": "9eb03b3f",
   "metadata": {},
   "outputs": [
    {
     "data": {
      "image/png": "[encoded data removed]",
      "text/plain": [
       "<Figure size 640x480 with 2 Axes>"
      ]
     },
     "metadata": {},
     "output_type": "display_data"
    },
    {
     "data": {
      "image/png": "[encoded data removed]",
      "text/plain": [
       "<Figure size 640x480 with 2 Axes>"
      ]
     },
     "metadata": {},
     "output_type": "display_data"
    },
    {
     "data": {
      "image/png": "[encoded data removed]",
      "text/plain": [
       "<Figure size 640x480 with 2 Axes>"
      ]
     },
     "metadata": {},
     "output_type": "display_data"
    },
    {
     "data": {
      "image/png": "[encoded data removed]",
      "text/plain": [
       "<Figure size 640x480 with 2 Axes>"
      ]
     },
     "metadata": {},
     "output_type": "display_data"
    },
    {
     "data": {
      "image/png": "[encoded data removed]",
      "text/plain": [
       "<Figure size 640x480 with 2 Axes>"
      ]
     },
     "metadata": {},
     "output_type": "display_data"
    },
    {
     "data": {
      "image/png": "[encoded data removed]",
      "text/plain": [
       "<Figure size 640x480 with 2 Axes>"
      ]
     },
     "metadata": {},
     "output_type": "display_data"
    }
   ],
   "source": [
    "# Plot each confusion matrix using seaborn\n",
    "for i, confusion_mat in enumerate([confusion_mat_s, confusion_mat_d, confusion_mat_lr,confusion_mat_rf,confusion_mat_mlp,confusion_mat_gbt]):\n",
    "    plt.figure()\n",
    "    plt.title(f\"Confusion Matrix {i+1}\")\n",
    "    sn.heatmap(confusion_mat, annot=True, fmt=\"d\")\n",
    "    plt.xlabel(\"Predicted\")\n",
    "    plt.ylabel(\"Truth\")\n",
    "\n",
    "plt.show()"
   ]
  },
  {
   "cell_type": "code",
   "execution_count": 38,
   "id": "1eff3617",
   "metadata": {},
   "outputs": [
    {
     "name": "stdout",
     "output_type": "stream",
     "text": [
      "Classification Report:\n",
      "               precision    recall  f1-score   support\n",
      "\n",
      "       False       0.98      0.99      0.98       576\n",
      "        True       0.99      0.98      0.98       575\n",
      "\n",
      "    accuracy                           0.98      1151\n",
      "   macro avg       0.98      0.98      0.98      1151\n",
      "weighted avg       0.98      0.98      0.98      1151\n",
      "\n"
     ]
    }
   ],
   "source": [
    "#Print Classification report\n",
    "print(\"Classification Report:\\n\", classification_report(y_test, y_pred_mlp, digits=2))"
   ]
  },
  {
   "cell_type": "markdown",
   "id": "c33bba62",
   "metadata": {},
   "source": [
    "# Test the model's peformance on a real text"
   ]
  },
  {
   "cell_type": "code",
   "execution_count": 39,
   "id": "555d6995",
   "metadata": {},
   "outputs": [
    {
     "data": {
      "text/plain": [
       "array([ True])"
      ]
     },
     "execution_count": 39,
     "metadata": {},
     "output_type": "execute_result"
    }
   ],
   "source": [
    "clf_mlp.predict([\"Hello Jose, your access will soon expire\"])"
   ]
  },
  {
   "cell_type": "code",
   "execution_count": 40,
   "id": "844e6726",
   "metadata": {},
   "outputs": [
    {
     "data": {
      "text/plain": [
       "array([False])"
      ]
     },
     "execution_count": 40,
     "metadata": {},
     "output_type": "execute_result"
    }
   ],
   "source": [
    "clf_mlp.predict(['This is Emmanuel Omale'])"
   ]
  },
  {
   "cell_type": "code",
   "execution_count": 41,
   "id": "4aa4fc54",
   "metadata": {},
   "outputs": [
    {
     "data": {
      "text/plain": [
       "array([ True])"
      ]
     },
     "execution_count": 41,
     "metadata": {},
     "output_type": "execute_result"
    }
   ],
   "source": [
    "clf_mlp.predict([\"in the meantime you'll want to update your payment details.\"])"
   ]
  },
  {
   "cell_type": "code",
   "execution_count": null,
   "id": "da8159ab",
   "metadata": {},
   "outputs": [],
   "source": []
  }
 ],
 "metadata": {
  "celltoolbar": "Raw Cell Format",
  "kernelspec": {
   "display_name": "Python 3 (ipykernel)",
   "language": "python",
   "name": "python3"
  },
  "language_info": {
   "codemirror_mode": {
    "name": "ipython",
    "version": 3
   },
   "file_extension": ".py",
   "mimetype": "text/x-python",
   "name": "python",
   "nbconvert_exporter": "python",
   "pygments_lexer": "ipython3",
   "version": "3.9.13"
  }
 },
 "nbformat": 4,
 "nbformat_minor": 5
}
